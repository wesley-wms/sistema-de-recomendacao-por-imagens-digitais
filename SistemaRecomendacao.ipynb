{
  "cells": [
    {
      "cell_type": "markdown",
      "metadata": {
        "id": "view-in-github",
        "colab_type": "text"
      },
      "source": [
        "<a href=\"https://colab.research.google.com/github/wesley-wms/sistema-de-recomendacao-por-imagens-digitais/blob/main/SistemaRecomendacao.ipynb\" target=\"_parent\"><img src=\"https://colab.research.google.com/assets/colab-badge.svg\" alt=\"Open In Colab\"/></a>"
      ]
    },
    {
      "cell_type": "code",
      "execution_count": null,
      "metadata": {
        "id": "idtQQEaSaESV"
      },
      "outputs": [],
      "source": [
        "!pip install --upgrade kagglehub"
      ]
    },
    {
      "cell_type": "code",
      "execution_count": null,
      "metadata": {
        "id": "cha7ZKUuYnE-"
      },
      "outputs": [],
      "source": [
        "import kagglehub\n",
        "import os\n",
        "import zipfile\n",
        "import numpy as np\n",
        "import matplotlib.pyplot as plt\n",
        "import tensorflow as tf\n",
        "from tensorflow.keras.preprocessing.image import load_img, img_to_array\n",
        "from tensorflow.keras.applications.resnet50 import ResNet50, preprocess_input\n",
        "from sklearn.metrics.pairwise import cosine_similarity\n",
        "import pandas as pd\n",
        "from glob import glob"
      ]
    },
    {
      "cell_type": "code",
      "execution_count": null,
      "metadata": {
        "id": "k_-tkumCZjUM"
      },
      "outputs": [],
      "source": [
        "dataset_path = \"/root/.cache/kagglehub/datasets/bhaskar2443053/fashion-small/versions/1\"\n",
        "print(\"Arquivos e pastas no diretório do dataset:\")\n",
        "print(os.listdir(dataset_path))\n",
        "\n",
        "\n",
        "image_dir = dataset_path  # Ajuste conforme necessário\n",
        "data_paths = glob.glob(os.path.join(image_dir, \"**/*.jpg\"), recursive=True)\n",
        "\n",
        "print(f\"Total de imagens encontradas: {len(data_paths)}\")\n",
        "print(\"Exemplo de caminho:\", data_paths[:5])  # Exibir algumas imagens encontradas\n"
      ]
    },
    {
      "cell_type": "code",
      "execution_count": null,
      "metadata": {
        "id": "7g6zZOUrZqKr"
      },
      "outputs": [],
      "source": [
        "# Carregar modelo pré-treinado para extração de features\n",
        "model = ResNet50(weights='imagenet', include_top=False, pooling='avg')"
      ]
    },
    {
      "cell_type": "code",
      "execution_count": null,
      "metadata": {
        "colab": {
          "background_save": true
        },
        "id": "ZoN0Sll1cIOo"
      },
      "outputs": [],
      "source": [
        "def extract_features(img_path, model):\n",
        "    \"\"\"Extrai características da imagem usando ResNet50.\"\"\"\n",
        "    img = load_img(img_path, target_size=(224, 224))\n",
        "    img_array = img_to_array(img)\n",
        "    img_array = np.expand_dims(img_array, axis=0)\n",
        "    img_array = preprocess_input(img_array)\n",
        "    features = model.predict(img_array)\n",
        "    return features.flatten()\n",
        "\n",
        "# Extrair características para todas as imagens\n",
        "df_features = pd.DataFrame()\n",
        "df_features['image_path'] = data_paths\n",
        "df_features['features'] = df_features['image_path'].apply(lambda x: extract_features(x, model))\n",
        "\n",
        "# Criar matriz de características\n",
        "feature_matrix = np.vstack(df_features['features'].values)"
      ]
    },
    {
      "cell_type": "code",
      "execution_count": null,
      "metadata": {
        "id": "I8rfsMjoZw_S"
      },
      "outputs": [],
      "source": [
        "# Função para recomendar imagens similares\n",
        "def recommend_images(query_img_path, model, feature_matrix, df_features, top_n=5):\n",
        "    query_features = extract_features(query_img_path, model).reshape(1, -1)\n",
        "    similarities = cosine_similarity(query_features, feature_matrix)[0]\n",
        "    indices = np.argsort(similarities)[::-1][:top_n]\n",
        "    recommended_images = df_features.iloc[indices]['image_path'].values\n",
        "    return recommended_images\n",
        "\n",
        "query_image = data_paths[0]  # Escolher uma imagem do dataset\n",
        "recommended_images = recommend_images(query_image, model, feature_matrix, df_features)"
      ]
    },
    {
      "cell_type": "code",
      "source": [
        "# Exibir a imagem consultada e as recomendações\n",
        "plt.figure(figsize=(10, 5))\n",
        "plt.subplot(1, top_n + 1, 1)\n",
        "plt.imshow(load_img(query_image))\n",
        "plt.title(\"Imagem Consultada\")\n",
        "plt.axis(\"off\")\n",
        "\n",
        "for i, img_path in enumerate(recommended_images):\n",
        "    plt.subplot(1, top_n + 1, i + 2)\n",
        "    plt.imshow(load_img(img_path))\n",
        "    plt.title(f\"Recomendação {i+1}\")\n",
        "    plt.axis(\"off\")\n",
        "\n",
        "plt.show()"
      ],
      "metadata": {
        "id": "FmQqgMhT-f05"
      },
      "execution_count": null,
      "outputs": []
    }
  ],
  "metadata": {
    "accelerator": "GPU",
    "colab": {
      "gpuType": "T4",
      "provenance": [],
      "authorship_tag": "ABX9TyNMfSSlzy5icG4dxeoqgQYi",
      "include_colab_link": true
    },
    "kernelspec": {
      "display_name": "Python 3",
      "name": "python3"
    },
    "language_info": {
      "name": "python"
    }
  },
  "nbformat": 4,
  "nbformat_minor": 0
}